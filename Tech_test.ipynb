{
  "nbformat": 4,
  "nbformat_minor": 0,
  "metadata": {
    "colab": {
      "provenance": []
    },
    "kernelspec": {
      "name": "python3",
      "display_name": "Python 3"
    },
    "language_info": {
      "name": "python"
    }
  },
  "cells": [
    {
      "cell_type": "markdown",
      "source": [
        "# **Question 3. Class hierarchy**\n"
      ],
      "metadata": {
        "id": "ObY_pUG0wIkq"
      }
    },
    {
      "cell_type": "markdown",
      "source": [
        "# **3a**"
      ],
      "metadata": {
        "id": "gcz-Q-l1w8FP"
      }
    },
    {
      "cell_type": "code",
      "source": [
        "import os\n",
        "import json\n",
        "\n",
        "\n",
        "class ClassHierarchy:\n",
        "    def __init__(self, filename, filename2):\n",
        "        with open(filename, \"r\") as f:\n",
        "            lines = f.readlines()\n",
        "\n",
        "        self.hierarchy = {}\n",
        "        for line in lines:\n",
        "            parent, child = line.strip().split()\n",
        "            self.hierarchy[child] = parent\n",
        "\n",
        "\n",
        "        with open(filename2, \"r\") as f:\n",
        "            lines = f.readlines()\n",
        "\n",
        "        self.hierarchy_id_to_name = {}\n",
        "        for line in lines:\n",
        "            char = line.strip().replace(', ', '_').replace('\\t', '_').replace(',', '').split(\"_\")\n",
        "            class_id, class_name = char[:1], char[1:]\n",
        "            self.hierarchy_id_to_name[class_id[0]] = []\n",
        "            for x in class_name:\n",
        "                # print(class_id, x)\n",
        "                self.hierarchy_id_to_name[class_id[0]].append(x)\n",
        "\n",
        "    def find_siblings(self, class_name):\n",
        "        siblings = []\n",
        "        parent = self.hierarchy[class_name]\n",
        "        for child in self.hierarchy:\n",
        "            if self.hierarchy[child] == parent:\n",
        "                siblings.append(child)\n",
        "\n",
        "        results = []\n",
        "        for i in siblings:\n",
        "            results.append(self.hierarchy_id_to_name[i])\n",
        "        return results\n",
        "\n",
        "    def find_parent(self, class_name):\n",
        "\n",
        "        return self.hierarchy_id_to_name[str(self.hierarchy[class_name])]\n",
        "\n",
        "    def find_ancestors(self, class_name):\n",
        "        ancestors = []\n",
        "        parent = self.hierarchy[class_name]\n",
        "        while parent:\n",
        "            ancestors.append(parent)\n",
        "            # print(parent)\n",
        "            if parent in self.hierarchy.keys():\n",
        "                parent = self.hierarchy[parent]\n",
        "            else:\n",
        "              break\n",
        "        results = []\n",
        "        for i in ancestors:\n",
        "            results.append(self.hierarchy_id_to_name[i])\n",
        "        return results\n",
        "\n",
        "\n",
        "    def find_if_same_ancestor(self, class_1, class_2):\n",
        "        ancestors_1 = self.find_ancestors(class_1)\n",
        "        ancestors_2 = self.find_ancestors(class_2)\n",
        "\n",
        "        for ancestor in ancestors_1:\n",
        "            if ancestor in ancestors_2:\n",
        "                return True\n",
        "\n",
        "        return False\n",
        "\n",
        "\n",
        "if __name__ == \"__main__\":\n",
        "    hierarchy = ClassHierarchy(\"hierarchy.txt\", 'id_to_name.txt')\n",
        "\n",
        "    print(\"Siblings of\", hierarchy.hierarchy_id_to_name['n02431122'])\n",
        "    print(hierarchy.find_siblings(\"n02431122\"))\n",
        "    print(\"Parent of\", hierarchy.hierarchy_id_to_name['n02431122'])\n",
        "    print( hierarchy.find_parent(\"n02431122\"))\n",
        "    print(\"Ancestors\", hierarchy.hierarchy_id_to_name['n02431122'])\n",
        "    print(hierarchy.find_ancestors(\"n02431122\"))\n",
        "    print(\"Do\", hierarchy.hierarchy_id_to_name['n02431122'],\" and \", hierarchy.hierarchy_id_to_name['n02418064'], \"have the same ancestor?:\")\n",
        "    print( hierarchy.find_if_same_ancestor(\"n02431122\", \"n02418064\"))"
      ],
      "metadata": {
        "colab": {
          "base_uri": "https://localhost:8080/"
        },
        "id": "dzKBi2J84pEb",
        "outputId": "4b84d247-1752-42bc-a1f5-8a970db01d9e"
      },
      "execution_count": 2,
      "outputs": [
        {
          "output_type": "stream",
          "name": "stdout",
          "text": [
            "Siblings of ['red deer', 'elk', 'American elk', 'wapiti', 'Cervus elaphus']\n",
            "[['Japanese deer', 'sika', 'Cervus nipon', 'Cervus sika'], ['musk deer', 'Moschus moschiferus'], ['mule deer', 'burro deer', 'Odocoileus hemionus'], [\"pere david's deer\", 'elaphure', 'Elaphurus davidianus'], ['brocket'], ['red deer', 'elk', 'American elk', 'wapiti', 'Cervus elaphus'], ['Virginia deer', 'white tail', 'whitetail', 'white-tailed deer', 'whitetail deer', 'Odocoileus Virginianus'], ['fallow deer', 'Dama dama'], ['caribou', 'reindeer', 'Greenland caribou', 'Rangifer tarandus'], ['sambar', 'sambur', 'Cervus unicolor'], ['pricket'], ['elk', 'European elk', 'moose', 'Alces alces'], ['wapiti', 'elk', 'American elk', 'Cervus elaphus canadensis'], ['muntjac', 'barking deer'], ['roe deer', 'Capreolus capreolus']]\n",
            "Parent of ['red deer', 'elk', 'American elk', 'wapiti', 'Cervus elaphus']\n",
            "['deer', 'cervid']\n",
            "Ancestors ['red deer', 'elk', 'American elk', 'wapiti', 'Cervus elaphus']\n",
            "[['deer', 'cervid'], ['ruminant'], ['even-toed ungulate', 'artiodactyl', 'artiodactyl mammal'], ['ungulate', 'hoofed mammal'], ['placental', 'placental mammal', 'eutherian', 'eutherian mammal'], ['mammal', 'mammalian'], ['vertebrate', 'craniate'], ['chordate'], ['animal', 'animate being', 'beast', 'brute', 'creature', 'fauna'], ['organism', 'being'], ['living thing', 'animate thing'], ['whole', 'unit'], ['object', 'physical object'], ['physical entity'], ['entity']]\n",
            "Do ['red deer', 'elk', 'American elk', 'wapiti', 'Cervus elaphus']  and  ['goat antelope'] have the same ancestor?:\n",
            "True\n"
          ]
        }
      ]
    },
    {
      "cell_type": "markdown",
      "source": [
        "# **3c**"
      ],
      "metadata": {
        "id": "dkUfxoFTwXC6"
      }
    },
    {
      "cell_type": "code",
      "source": [
        "def nms(boxes, scores, classes, class_hierarchy, score_threshold, iou_threshold):\n",
        "    keep = []\n",
        "    for box, score, class_name in zip(boxes, scores, classes):\n",
        "        if score < score_threshold:\n",
        "            continue\n",
        "        keep.append((box, score, class_name))\n",
        "\n",
        "    while keep:\n",
        "        box, score, class_name = keep.pop(0)\n",
        "        for box2, score2, class_name2 in keep:\n",
        "            if class_name == class_name2:\n",
        "                if iou(box, box2) > iou_threshold:\n",
        "                    if score2 < score:\n",
        "                        keep.remove((box2, score2, class_name2))\n",
        "            else:\n",
        "                if class_hierarchy[class_name2] == class_name:\n",
        "                    keep.remove((box2, score2, class_name2))\n",
        "\n",
        "    return keep\n",
        "\n",
        "def iou(box1, box2):\n",
        "    \"\"\"Computes the intersection over union of two bounding boxes.\"\"\"\n",
        "    x1, y1, x2, y2 = box1\n",
        "    x3, y3, x4, y4 = box2\n",
        "    width_overlap = min(x2, x4) - max(x1, x3)\n",
        "    height_overlap = min(y2, y4) - max(y1, y3)\n",
        "    if width_overlap <= 0 or height_overlap <= 0:\n",
        "        return 0.0\n",
        "    area_overlap = width_overlap * height_overlap\n",
        "    area1 = (x2 - x1) * (y2 - y1)\n",
        "    area2 = (x4 - x3) * (y4 - y3)\n",
        "    iou = area_overlap / (area1 + area2 - area_overlap)\n",
        "    return iou"
      ],
      "metadata": {
        "id": "jTNoZsV8sGTZ"
      },
      "execution_count": null,
      "outputs": []
    },
    {
      "cell_type": "code",
      "source": [],
      "metadata": {
        "id": "5TuljMyowkTF"
      },
      "execution_count": null,
      "outputs": []
    }
  ]
}